{
 "cells": [
  {
   "cell_type": "markdown",
   "id": "32dc2aca-9f1b-4887-997d-fdeb2387badd",
   "metadata": {},
   "source": [
    "# 1. Импорт библиоткек"
   ]
  },
  {
   "cell_type": "code",
   "execution_count": null,
   "id": "f8c9e1bd-d475-4e72-a4d1-e40b35a5b004",
   "metadata": {
    "tags": []
   },
   "outputs": [],
   "source": [
    "import warnings\n",
    "\n",
    "import mlflow\n",
    "\n",
    "import pandas as pd\n",
    "import numpy as np\n",
    "from sklearn.metrics import mean_squared_error, mean_absolute_error, r2_score\n",
    "from sklearn.model_selection import train_test_split\n",
    "from sklearn.linear_model import ElasticNet\n",
    "from sklearn.impute import SimpleImputer\n",
    "\n",
    "warnings.filterwarnings(\"ignore\")\n",
    "np.random.seed(42)"
   ]
  },
  {
   "cell_type": "markdown",
   "id": "5bcae7ac-0275-48ad-9abe-ce6f1066d8f9",
   "metadata": {},
   "source": [
    "# 2. Объявление функции eval_metrics (расчет метрик модели)"
   ]
  },
  {
   "cell_type": "code",
   "execution_count": null,
   "id": "d033e044-2b19-4f9e-91b3-9a24af8dc4ad",
   "metadata": {
    "tags": []
   },
   "outputs": [],
   "source": [
    "def eval_metrics(actual, pred):\n",
    "    rmse = np.sqrt(mean_squared_error(actual, pred))\n",
    "    mae = mean_absolute_error(actual, pred)\n",
    "    r2 = r2_score(actual, pred)\n",
    "    return rmse, mae, r2"
   ]
  },
  {
   "cell_type": "markdown",
   "id": "65886a3e-a5c8-4c80-8910-01030885ee99",
   "metadata": {},
   "source": [
    "# 3. Объявление функции prepare_train (подготовка датасета)"
   ]
  },
  {
   "cell_type": "code",
   "execution_count": null,
   "id": "93c5686b-a62a-4a70-96f1-6007ca5cc2bd",
   "metadata": {
    "tags": []
   },
   "outputs": [],
   "source": [
    "def prepare_train(dataset: pd.DataFrame):\n",
    "    \"\"\"\n",
    "    Преобразование данных\n",
    "    \"\"\"\n",
    "    temp=dataset[['Age']]\n",
    "    dataset.drop(['Age'],inplace=True,axis=1)\n",
    "\n",
    "    my_imputer=SimpleImputer()\n",
    "    imputed_temp = pd.DataFrame(my_imputer.fit_transform(temp))\n",
    "    imputed_temp.columns = temp.columns\n",
    "\n",
    "    dataset=pd.concat([dataset,imputed_temp],axis=1)\n",
    "\n",
    "    dataset['Embarked'].fillna(dataset['Embarked'].mode(),inplace=True)\n",
    "    dummy1=pd.get_dummies(dataset[['Sex','Embarked']])\n",
    "    dataset.drop(['Cabin', 'Embarked'] ,axis=1,inplace=True)\n",
    "    dataset=pd.concat([dataset,dummy1],axis=1)\n",
    "    dataset.drop(['Name',\n",
    "                'PassengerId',\n",
    "                'Sex',\n",
    "                'Ticket'], \n",
    "               axis=1, \n",
    "               inplace=True)\n",
    "    return dataset"
   ]
  },
  {
   "cell_type": "markdown",
   "id": "d6cf84da-42c8-444c-b77c-ccf403d7f3ef",
   "metadata": {},
   "source": [
    "# 4. Объявление функции эксперимента"
   ]
  },
  {
   "cell_type": "code",
   "execution_count": null,
   "id": "f8b3e76d-80b6-4057-bbd0-f1382e6c51ea",
   "metadata": {
    "tags": []
   },
   "outputs": [],
   "source": [
    "def start_experiment(dataset: pd.DataFrame, alpha=0.5, l1_ratio=0.5):\n",
    "    dataset = prepare_train(dataset)\n",
    " \n",
    "    # Split the data into training and test sets. (0.75, 0.25) split.\n",
    "    train, test = train_test_split(dataset)\n",
    " \n",
    "    train_x = train.drop([\"Survived\"], axis=1)\n",
    "    test_x = test.drop([\"Survived\"], axis=1)\n",
    "    train_y = train[[\"Survived\"]]\n",
    "    test_y = test[[\"Survived\"]]\n",
    " \n",
    "    # Запись данных о запусках: версия кода, время, параметры, метрики\n",
    "\n",
    "    # MLFLOW_TRACKING_URI - переменная окружения вызова функции без параметров\n",
    "    mlflow.set_tracking_uri(uri='http://127.0.0.1:5000')\n",
    "\n",
    "    experiment_name = \"itnt_titanic_1405\"\n",
    "    mlflow.set_experiment(experiment_name)\n",
    "    experiment = mlflow.get_experiment_by_name(experiment_name)\n",
    "    \n",
    "    client = mlflow.tracking.MlflowClient()\n",
    "    run = client.create_run(experiment.experiment_id)\n",
    "    \n",
    "    with mlflow.start_run(run_id = run.info.run_id, nested=True):\n",
    "        lr = ElasticNet(alpha=alpha, l1_ratio=l1_ratio, random_state=42)\n",
    "        lr.fit(train_x, train_y)\n",
    "\n",
    "        predicted_qualities = lr.predict(test_x)\n",
    "\n",
    "        (rmse, mae, r2) = eval_metrics(test_y, predicted_qualities)\n",
    "\n",
    "        print(\"Elasticnet model (alpha=%f, l1_ratio=%f):\" % (alpha, l1_ratio))\n",
    "        print(\"  RMSE: %s\" % rmse)\n",
    "        print(\"  MAE: %s\" % mae)\n",
    "        print(\"  R2: %s\" % r2)\n",
    "\n",
    "        # mlflow.sklearn.autolog(log_input_examples=True)\n",
    "        \n",
    "        # Логируем параметры модели\n",
    "        mlflow.log_param(\"alpha\", alpha)\n",
    "        mlflow.log_param(\"l1_ratio\", l1_ratio)\n",
    "    \n",
    "        # Логируем метрики\n",
    "        mlflow.log_metric(\"rmse\", rmse)\n",
    "        mlflow.log_metric(\"r2\", r2)\n",
    "        mlflow.log_metric(\"mae\", mae)\n",
    "    \n",
    "        # Логируем саму модель в формате MLFlow\n",
    "        mlflow.sklearn.log_model(lr, \"model\")\n",
    "        \n",
    "        #Для вывода модели в сервинг: \n",
    "        #Название папки должно быть уникально!\n",
    "        mlflow.sklearn.save_model(lr, \"../models/itnt_model_titanic\")\n",
    "\n",
    "        mlflow.end_run()"
   ]
  },
  {
   "cell_type": "markdown",
   "id": "837443b3-4922-442c-9eaa-7fac096770e8",
   "metadata": {},
   "source": [
    "# 5. Запуск эксперимента"
   ]
  },
  {
   "cell_type": "code",
   "execution_count": null,
   "id": "46b21254-5fd4-482e-9af7-1bef7eba4682",
   "metadata": {
    "tags": []
   },
   "outputs": [],
   "source": [
    "alpha = 0.5\n",
    "l1_ratio = 0.5\n",
    "\n",
    "dataset = pd.read_csv(\"../data/raw/titanic.csv\", sep=\",\")\n",
    "    \n",
    "start_experiment(dataset, alpha, l1_ratio)"
   ]
  },
  {
   "cell_type": "markdown",
   "id": "6c523fa0-dd9b-4915-bb54-fe8fbecb0953",
   "metadata": {},
   "source": [
    "# 6. Запуск серии экспериментов"
   ]
  },
  {
   "cell_type": "code",
   "execution_count": null,
   "id": "a5ddcf09-e2ae-4480-9a2d-65a000ed58c7",
   "metadata": {
    "tags": []
   },
   "outputs": [],
   "source": [
    "alpha = 0.5\n",
    "l1_ratio = 0.5\n",
    "\n",
    "for i in range(5):\n",
    "    alpha_edit = alpha - (0.1 * i)\n",
    "    l1_ratio_edit = l1_ratio + (0.1 * i)\n",
    "\n",
    "    dataset = pd.read_csv(\"../data/raw/titanic.csv\", sep=\",\")\n",
    "\n",
    "    start_experiment(dataset, alpha_edit, l1_ratio_edit)"
   ]
  },
  {
   "cell_type": "markdown",
   "id": "c1f01f00-4b5e-461e-be89-df9b9aba665a",
   "metadata": {},
   "source": [
    "# 7. Встроенный Serving"
   ]
  },
  {
   "cell_type": "markdown",
   "id": "1f13a8ff-1acc-4d80-bf33-24f3f5181564",
   "metadata": {},
   "source": [
    "В папке models в консоли выполняем запуск модели"
   ]
  },
  {
   "cell_type": "code",
   "execution_count": null,
   "id": "b80d81b2-b9d8-4f89-9e45-926d83d40b48",
   "metadata": {
    "scrolled": true
   },
   "outputs": [],
   "source": [
    "mlflow models serve -h 0.0.0.0 -m itnt_model_titanic --env-manager local --port 5556"
   ]
  },
  {
   "cell_type": "markdown",
   "id": "d2d7cc59-6192-44b5-9dc1-f932dbf35493",
   "metadata": {},
   "source": [
    "Выполняем запрос к модели через PowerShell"
   ]
  },
  {
   "cell_type": "code",
   "execution_count": null,
   "id": "772b5e67-b371-4d7f-a9a3-d6d181195577",
   "metadata": {},
   "outputs": [],
   "source": [
    "curl -Method POST -ContentType 'application/json' -Body '{\"dataframe_records\": [{\"Pclass\": 2, \"SibSp\": 0, \"Parch\": 0, \"Fare\": 10.5000, \"Age\": 16.000000, \"Sex_female\": 1, \"Sex_male\" : 0, \"Embarked_C\": 1, \"Embarked_Q\": 0, \"Embarked_S\": 0}]}' -Uri http://127.0.0.1:5556/invocations"
   ]
  },
  {
   "cell_type": "code",
   "execution_count": null,
   "id": "26290581-b64f-4ddd-8487-6b77276873b2",
   "metadata": {},
   "outputs": [],
   "source": []
  }
 ],
 "metadata": {
  "kernelspec": {
   "display_name": "Python 3 (ipykernel)",
   "language": "python",
   "name": "python3"
  },
  "language_info": {
   "codemirror_mode": {
    "name": "ipython",
    "version": 3
   },
   "file_extension": ".py",
   "mimetype": "text/x-python",
   "name": "python",
   "nbconvert_exporter": "python",
   "pygments_lexer": "ipython3",
   "version": "3.11.7"
  }
 },
 "nbformat": 4,
 "nbformat_minor": 5
}
